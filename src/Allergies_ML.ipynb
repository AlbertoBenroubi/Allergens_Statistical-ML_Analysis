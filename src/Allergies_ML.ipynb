{
 "cells": [
  {
   "cell_type": "markdown",
   "metadata": {},
   "source": [
    "# Machine Learning and Data Analysis on Data with allergen concentration measures\n"
   ]
  },
  {
   "cell_type": "markdown",
   "metadata": {},
   "source": [
    "## We will try to construct a features-labels dataset from our initial data, in order to try some ML and Data Analysis techniques. We should note that the particular data are not ready for ML and analysis, so we might observe some bad results, but the point of this exercise is just to manipule the data and implement some ML techniques."
   ]
  },
  {
   "cell_type": "markdown",
   "metadata": {},
   "source": [
    "### The data we have is in csv format and we created a script to load them (load_data.py). We have data from 2016 and 2017 in different files, so we need to put them together. \n"
   ]
  },
  {
   "cell_type": "code",
   "execution_count": 1,
   "metadata": {},
   "outputs": [
    {
     "name": "stdout",
     "output_type": "stream",
     "text": [
      "Number of attributes: 43\n",
      "\n",
      "Number of samples: 731\n",
      "\n",
      "Headers: \n",
      "['DayCode' 'DayDate' 'Acer' 'Alnus' 'Ambrosia' 'Apiaceae' 'Artemisia'\n",
      " 'Betula' 'Cannabaceae' 'Carpinus' 'Castanea' 'Chenopodiaceae'\n",
      " 'Cichorioideae' 'Corylus' 'Cupressaceae' 'Cyperaceae' 'Ericaceae'\n",
      " 'Fabaceae' 'Fagus' 'Fraxinus' 'Juglans' 'Ligustrum' 'Liquidambar'\n",
      " 'Moraceae' 'Myricaceae' 'Myrtaceae' 'Olea' 'other Asteroideae'\n",
      " 'other Oleaceae' 'Papaveraceae' 'Pinaceae' 'Plantago' 'Platanus' 'Poaceae'\n",
      " 'Populus' 'Quercus' 'Rosaceae' 'Rumex' 'Salix' 'Thalictrum' 'Tilia'\n",
      " 'Ulmus' 'Urticaceae']\n",
      "\n",
      "\n",
      "Example data before removing the first 2 columns: \n",
      "[['151' 'May 30' '0' '0' '0' '0' '0' '0' '0,9920634921' '0' '0' '0' '0' '0'\n",
      "  '0,9920634921' '0' '0' '0' '0' '0' '0' '0' '0' '0' '0' '0' '0,9920634921'\n",
      "  '0' '0' '0' '45,6349206349' '2,9761904762' '0' '10,4166666667' '0'\n",
      "  '14,880952381' '0' '0,496031746' '0' '2,4801587302' '0' '0'\n",
      "  '4,4642857143']\n",
      " ['152' 'May 31' '0' '0' '0' '0' '0' '0' '0' '0' '0' '0' '0' '0'\n",
      "  '1,4880952381' '0' '0' '0' '0' '0' '0' '0' '0' '0' '0' '0' '0'\n",
      "  '0,496031746' '0' '0' '29,2658730159' '1,9841269841' '0' '2,4801587302'\n",
      "  '0' '4,4642857143' '0' '0' '0' '0' '0' '0' '2,4801587302']\n",
      " ['153' 'Jun 01' '0' '0' '0' '0' '0' '0' '0' '0' '0' '0,496031746' '0' '0'\n",
      "  '0' '0,496031746' '0' '0' '0' '0' '0' '0' '0' '0' '0' '0' '0' '0' '0' '0'\n",
      "  '10,9126984127' '3,9682539683' '0' '14,880952381' '0' '0,9920634921' '0'\n",
      "  '3,9682539683' '0' '0' '0' '0' '10,9126984127']\n",
      " ['154' 'Jun 02' '0' '0' '0' '0,496031746' '0' '0' '3,4722222222' '0' '0'\n",
      "  '0' '0' '0' '0' '0' '0' '0' '0' '0' '0' '0' '0' '0' '0' '0' '0' '0' '0'\n",
      "  '0' '8,9285714286' '2,4801587302' '0,496031746' '3,9682539683' '0'\n",
      "  '1,9841269841' '0' '4,4642857143' '0' '0' '0' '0' '6,4484126984']\n",
      " ['155' 'Jun 03' '0' '0' '0' '0' '0' '0' '1,9841269841' '0,496031746' '0'\n",
      "  '0' '0' '0' '0,9920634921' '0' '0' '0' '0' '0' '0' '0' '0' '0' '0' '0'\n",
      "  '0' '0,496031746' '0' '0' '1,9841269841' '0' '0' '1,9841269841' '0'\n",
      "  '0,9920634921' '0' '0,496031746' '0' '0' '0' '0' '0,9920634921']]\n"
     ]
    }
   ],
   "source": [
    "import load_data\n",
    "import numpy as np\n",
    "import utils\n",
    "\n",
    "headers, data1 = load_data.get_POLLEN_2016()\n",
    "_, data2 = load_data.get_POLLEN_2017()\n",
    "\n",
    "headers, data1, data2 = np.asarray(headers), np.asarray(data1), np.asarray(data2)\n",
    "\n",
    "n_attributes = headers.shape[0]\n",
    "\n",
    "total_data = np.concatenate((data1, data2))\n",
    "\n",
    "n_samples = total_data.shape[0]\n",
    "\n",
    "\n",
    "print 'Number of attributes: ' + str(n_attributes) +'\\n'\n",
    "\n",
    "print 'Number of samples: ' + str(n_samples) +'\\n'\n",
    "\n",
    "\n",
    "print 'Headers: ' \n",
    "print headers\n",
    "\n",
    "print '\\n'\n",
    "\n",
    "print 'Example data before removing the first 2 columns: ' \n",
    "print total_data[150:155,:]\n",
    "\n",
    "\n"
   ]
  },
  {
   "cell_type": "markdown",
   "metadata": {},
   "source": [
    "### The first 2 columns of the data are the id and the date of the measurement. We will remove the first and second column from the data and we will keep as a seperate matrix the second column, which has the specific day and month of the measurement: "
   ]
  },
  {
   "cell_type": "code",
   "execution_count": 2,
   "metadata": {},
   "outputs": [],
   "source": [
    "total_data_no_dates = total_data[:,2:]\n",
    "dates = total_data[:,1]"
   ]
  },
  {
   "cell_type": "markdown",
   "metadata": {},
   "source": [
    "### Next step is to decide which the labels will be. We can think that allergies vary according to months of the year, so for our first try, we will have each month as a label: "
   ]
  },
  {
   "cell_type": "markdown",
   "metadata": {},
   "source": [
    "### (We set every month to be a number (e.g. January=1))"
   ]
  },
  {
   "cell_type": "code",
   "execution_count": 3,
   "metadata": {},
   "outputs": [],
   "source": [
    "months_nums=[1,2,3,4,5,6,7,8,9,10,11,12]\n",
    "months_text=['Jan','Feb','Mar','Apr','May','Jun','Jul','Aug','Sep','Oct','Nov','Dec']\n",
    "\n",
    "months_labels = []\n",
    "\n",
    "for date in dates:\n",
    "\n",
    "    for i in range(12):\n",
    "        if months_text[i] in date:\n",
    "            months_labels.append(months_nums[i])\n",
    "\n",
    "months_labels = np.asarray(months_labels)\n",
    "\n",
    "months_labels = months_labels.reshape((months_labels.shape[0],1))"
   ]
  },
  {
   "cell_type": "code",
   "execution_count": 4,
   "metadata": {},
   "outputs": [
    {
     "name": "stdout",
     "output_type": "stream",
     "text": [
      "['Jan 26' 'Jan 27' 'Jan 28' 'Jan 29' 'Jan 30' 'Jan 31' 'Feb 01' 'Feb 02'\n",
      " 'Feb 03' 'Feb 04']\n",
      "[[1]\n",
      " [1]\n",
      " [1]\n",
      " [1]\n",
      " [1]\n",
      " [1]\n",
      " [2]\n",
      " [2]\n",
      " [2]\n",
      " [2]]\n"
     ]
    }
   ],
   "source": [
    "print dates[25:35]\n",
    "print months_labels[25:35]"
   ]
  },
  {
   "cell_type": "markdown",
   "metadata": {},
   "source": [
    "### Now we want to form our final dataset. In case we use an algorithm that processes each sample individually(e.g. C-E elimination), then we dont want our data to be sorted by the labels. So, the next step is to shuffle our data. In order to do that, we will merge them, shuffle them and split them again into features and labels:"
   ]
  },
  {
   "cell_type": "code",
   "execution_count": 5,
   "metadata": {},
   "outputs": [],
   "source": [
    "data_to_shuffle = np.concatenate((months_labels, total_data_no_dates), axis = 1)\n",
    "\n",
    "np.random.shuffle(data_to_shuffle)\n",
    "\n",
    "labels = data_to_shuffle[:,0]\n",
    "data = data_to_shuffle[:,1:]"
   ]
  },
  {
   "cell_type": "markdown",
   "metadata": {},
   "source": [
    "### The last step of our data pre-processing is to fix the float values of our data which use a comma instead of a dot for the decimal. This happens because the data were created in Greece, where we use a comma for the decimal in a float number."
   ]
  },
  {
   "cell_type": "code",
   "execution_count": 6,
   "metadata": {},
   "outputs": [],
   "source": [
    "for i in range(data.shape[0]):\n",
    "    for j in range(data.shape[1]):\n",
    "        if ',' in data[i,j]:\n",
    "            data[i,j] = data[i,j].replace(',','.')\n",
    "        else:\n",
    "            data[i,j] = data[i,j]+'.'\n",
    "#We also observed during debugging that some fields are null, so we set a value of zero for these fields\n",
    "        if data[i,j]=='.':\n",
    "            data[i,j]='0.'\n",
    "\n",
    "data = data.astype(np.float)\n"
   ]
  },
  {
   "cell_type": "markdown",
   "metadata": {},
   "source": [
    "## So, our data are ready for some ML things! "
   ]
  },
  {
   "cell_type": "markdown",
   "metadata": {},
   "source": [
    "### Let's stay simple for this task. Let's try to train a decision tree: "
   ]
  },
  {
   "cell_type": "markdown",
   "metadata": {},
   "source": [
    "### We have 731 samples, which is not a very large number. So, we might want to use an evaluation method in order to avoid overfitting and test our model to unseen data. We chose the cross-validation (We use sci-kit learn for the next tasks):"
   ]
  },
  {
   "cell_type": "markdown",
   "metadata": {},
   "source": [
    "### First, we will try to overfit our decision tree, in order to know if our model can actually learn. We will see that this model \"partly\" overfits the data. This means that we may need to do some more pre-processing or to change the labels for our task."
   ]
  },
  {
   "cell_type": "code",
   "execution_count": 7,
   "metadata": {},
   "outputs": [
    {
     "name": "stdout",
     "output_type": "stream",
     "text": [
      "Scores for the 10 models that were created by the CV:\n",
      "0.666666666667\n"
     ]
    },
    {
     "data": {
      "image/png": "[encoded data removed]",
      "text/plain": [
       "<matplotlib.figure.Figure at 0x7f65f8c316d0>"
      ]
     },
     "metadata": {},
     "output_type": "display_data"
    },
    {
     "name": "stdout",
     "output_type": "stream",
     "text": [
      "Recall for each label: \n",
      "[ 0.          0.4         0.          1.          1.          1.          1.\n",
      "  1.          0.          1.          0.66666667]\n"
     ]
    }
   ],
   "source": [
    "from sklearn import tree\n",
    "from sklearn.metrics import accuracy_score, confusion_matrix\n",
    "from sklearn.model_selection import cross_val_score, cross_val_predict\n",
    "\n",
    "clf = tree.DecisionTreeClassifier()\n",
    "clf.fit(data[1:40,:],labels[1:40])\n",
    "\n",
    "y_pred = clf.predict(data[1:40])\n",
    "\n",
    "\n",
    "scores = accuracy_score(labels[1:40],y_pred)\n",
    "conf_mat = confusion_matrix(labels[1:40],y_pred)\n",
    "\n",
    "print 'Scores for the 10 models that were created by the CV:'\n",
    "print scores\n",
    "\n",
    "utils.plot_confusion_matrix(conf_mat, classes=months_text,\n",
    "                      title='Confusion matrix')\n",
    "\n",
    "from sklearn.metrics import recall_score\n",
    "\n",
    "print 'Recall for each label: '\n",
    "print recall_score(labels[1:40], y_pred, average=None)  "
   ]
  },
  {
   "cell_type": "code",
   "execution_count": 8,
   "metadata": {},
   "outputs": [
    {
     "name": "stdout",
     "output_type": "stream",
     "text": [
      "Scores for the 10 models that were created by the CV:\n",
      "[ 0.4556962   0.49367089  0.48611111  0.52777778  0.47222222  0.52777778\n",
      "  0.44444444  0.32394366  0.52112676  0.52112676]\n",
      "\n",
      "\n",
      "The mean score: \n",
      "0.477389760504\n"
     ]
    },
    {
     "data": {
      "image/png": "[encoded data removed]",
      "text/plain": [
       "<matplotlib.figure.Figure at 0x7f65f0a1ed90>"
      ]
     },
     "metadata": {},
     "output_type": "display_data"
    },
    {
     "name": "stdout",
     "output_type": "stream",
     "text": [
      "Recall for each label: \n",
      "[ 0.88709677  0.29032258  0.          0.09677419  0.77192982  0.74193548\n",
      "  0.86666667  0.69354839  0.43333333  0.38709677  0.40322581  0.25      ]\n"
     ]
    }
   ],
   "source": [
    "scores = cross_val_score(clf, data, labels, cv=10)\n",
    "y_pred = cross_val_predict(clf, data, labels, cv=10)\n",
    "conf_mat = confusion_matrix(labels,y_pred)\n",
    "\n",
    "print 'Scores for the 10 models that were created by the CV:'\n",
    "print scores\n",
    "print '\\n'\n",
    "print 'The mean score: '\n",
    "print scores.mean()\n",
    "\n",
    "utils.plot_confusion_matrix(conf_mat, classes=months_text,\n",
    "                      title='Confusion matrix')\n",
    "\n",
    "print 'Recall for each label: '\n",
    "print recall_score(labels, y_pred, average=None)  "
   ]
  },
  {
   "cell_type": "markdown",
   "metadata": {},
   "source": [
    "### We observe that we have a mean score of 50%, which is not bad if we consider that the random pick probability would be 1/12 = 8.333%\n",
    "\n",
    "### If we look at the confusion matrix, we can see that our model confuses very often the months of the same season, especially for the winter. \n",
    "\n",
    "### March is the worst label as we can see, because our model did not classify any value of March to the right month.\n",
    "\n",
    "### So, it is obvious that we will get a much more accurate model if we substitute the current labels with the seasons. Let's confirm it below:"
   ]
  },
  {
   "cell_type": "code",
   "execution_count": 9,
   "metadata": {},
   "outputs": [
    {
     "name": "stdout",
     "output_type": "stream",
     "text": [
      "Scores for the 10 models that were created by the CV:\n",
      "[ 0.72368421  0.68        0.74324324  0.67567568  0.69444444  0.59722222\n",
      "  0.72222222  0.63888889  0.73611111  0.625     ]\n",
      "\n",
      "\n",
      "The mean score: \n",
      "0.683649201833\n"
     ]
    },
    {
     "data": {
      "image/png": "[encoded data removed]",
      "text/plain": [
       "<matplotlib.figure.Figure at 0x7f65bdd4ed10>"
      ]
     },
     "metadata": {},
     "output_type": "display_data"
    },
    {
     "name": "stdout",
     "output_type": "stream",
     "text": [
      "Recall for each label: \n",
      "[ 0.84530387  0.91847826  0.72282609  0.24175824]\n"
     ]
    }
   ],
   "source": [
    "seasons_numbers = [1, 1, 2, 2, 2, 3, 3, 3, 4, 4, 4, 1]\n",
    "seasons_text = ['Winter', 'Spring', 'Summer', 'Autumn']\n",
    "#1 -> Winter, 2 -> Spring, 3 -> Summer, 4 -> Autumn (for  every month)\n",
    "\n",
    "season_labels = []\n",
    "\n",
    "for date in dates:\n",
    "\n",
    "    for i in range(12):\n",
    "        if months_text[i] in date:\n",
    "            season_labels.append(seasons_numbers[i])\n",
    "            \n",
    "season_labels = np.asarray(season_labels)\n",
    "\n",
    "season_labels = season_labels.reshape((season_labels.shape[0],1))\n",
    "\n",
    "data_to_shuffle = np.concatenate((season_labels, total_data_no_dates), axis = 1)\n",
    "\n",
    "np.random.shuffle(data_to_shuffle)\n",
    "\n",
    "labels = data_to_shuffle[:,0]\n",
    "data = data_to_shuffle[:,1:]\n",
    "\n",
    "for i in range(data.shape[0]):\n",
    "    for j in range(data.shape[1]):\n",
    "        if ',' in data[i,j]:\n",
    "            data[i,j] = data[i,j].replace(',','.')\n",
    "        else:\n",
    "            data[i,j] = data[i,j]+'.'\n",
    "#We also observed during debugging that some fields are null, so we set a value of zero for these fields\n",
    "        if data[i,j]=='.':\n",
    "            data[i,j]='0.'\n",
    "\n",
    "data = data.astype(np.float)\n",
    "\n",
    "\n",
    "scores = cross_val_score(clf, data, labels, cv=10)\n",
    "y_pred = cross_val_predict(clf, data, labels, cv=10)\n",
    "conf_mat = confusion_matrix(labels,y_pred)\n",
    "\n",
    "print 'Scores for the 10 models that were created by the CV:'\n",
    "print scores\n",
    "print '\\n'\n",
    "print 'The mean score: '\n",
    "print scores.mean()\n",
    "\n",
    "utils.plot_confusion_matrix(conf_mat, classes=seasons_text,\n",
    "                      title='Confusion matrix')\n",
    "\n",
    "from sklearn.metrics import recall_score\n",
    "\n",
    "print 'Recall for each label: '\n",
    "print recall_score(labels, y_pred, average=None)  "
   ]
  },
  {
   "cell_type": "markdown",
   "metadata": {},
   "source": [
    "### We indeed have better results than before and we can make it even better, if we merge Winter with Autumn which either way are non-important seasons for allergies (that's an assumption): "
   ]
  },
  {
   "cell_type": "code",
   "execution_count": 10,
   "metadata": {},
   "outputs": [
    {
     "name": "stdout",
     "output_type": "stream",
     "text": [
      "Scores for the 10 models that were created by the CV:\n",
      "[ 0.86666667  0.86666667  0.88        0.83783784  0.76388889  0.86111111\n",
      "  0.90277778  0.875       0.86111111  0.86111111]\n",
      "\n",
      "\n",
      "The mean score: \n",
      "0.857617117117\n"
     ]
    },
    {
     "data": {
      "image/png": "[encoded data removed]",
      "text/plain": [
       "<matplotlib.figure.Figure at 0x7f65bda0fc90>"
      ]
     },
     "metadata": {},
     "output_type": "display_data"
    },
    {
     "name": "stdout",
     "output_type": "stream",
     "text": [
      "Recall for each label: \n",
      "[ 0.91460055  0.91847826  0.70108696]\n"
     ]
    }
   ],
   "source": [
    "seasons_numbers = [1, 1, 2, 2, 2, 3, 3, 3, 1, 1, 1, 1]\n",
    "seasons_text = ['Winter-Autumn', 'Spring', 'Summer']\n",
    "#1 -> Winter-Autumn, 2 -> Spring, 3 -> Summer\n",
    "\n",
    "season_labels = []\n",
    "\n",
    "for date in dates:\n",
    "\n",
    "    for i in range(12):\n",
    "        if months_text[i] in date:\n",
    "            season_labels.append(seasons_numbers[i])\n",
    "            \n",
    "season_labels = np.asarray(season_labels)\n",
    "\n",
    "season_labels = season_labels.reshape((season_labels.shape[0],1))\n",
    "\n",
    "data_to_shuffle = np.concatenate((season_labels, total_data_no_dates), axis = 1)\n",
    "\n",
    "np.random.shuffle(data_to_shuffle)\n",
    "\n",
    "labels = data_to_shuffle[:,0]\n",
    "data = data_to_shuffle[:,1:]\n",
    "\n",
    "for i in range(data.shape[0]):\n",
    "    for j in range(data.shape[1]):\n",
    "        if ',' in data[i,j]:\n",
    "            data[i,j] = data[i,j].replace(',','.')\n",
    "        else:\n",
    "            data[i,j] = data[i,j]+'.'\n",
    "#We also observed during debugging that some fields are null, so we set a value of zero for these fields\n",
    "        if data[i,j]=='.':\n",
    "            data[i,j]='0.'\n",
    "\n",
    "data = data.astype(np.float)\n",
    "\n",
    "\n",
    "scores = cross_val_score(clf, data, labels, cv=10)\n",
    "y_pred = cross_val_predict(clf, data, labels, cv=10)\n",
    "conf_mat = confusion_matrix(labels,y_pred)\n",
    "\n",
    "print 'Scores for the 10 models that were created by the CV:'\n",
    "print scores\n",
    "print '\\n'\n",
    "print 'The mean score: '\n",
    "print scores.mean()\n",
    "\n",
    "utils.plot_confusion_matrix(conf_mat, classes=seasons_text,\n",
    "                      title='Confusion matrix')\n",
    "\n",
    "from sklearn.metrics import recall_score\n",
    "\n",
    "print 'Recall for each label: '\n",
    "print recall_score(labels, y_pred, average=None)  "
   ]
  },
  {
   "cell_type": "markdown",
   "metadata": {},
   "source": [
    "### Hence, we have a model (or 3 models) that could give us good results regarging this simple task we implemented.\n",
    "\n",
    "\n",
    "### This was a very simple and easy example of a possible way of classification of any data you could find. Since, we did not have a specific goal, we had the freedom to change our labels and get a good result that makes sense from our model.\n",
    "\n",
    "### The whole code can be found on main.py file."
   ]
  }
 ],
 "metadata": {
  "kernelspec": {
   "display_name": "Python 2",
   "language": "python",
   "name": "python2"
  },
  "language_info": {
   "codemirror_mode": {
    "name": "ipython",
    "version": 2
   },
   "file_extension": ".py",
   "mimetype": "text/x-python",
   "name": "python",
   "nbconvert_exporter": "python",
   "pygments_lexer": "ipython2",
   "version": "2.7.12"
  }
 },
 "nbformat": 4,
 "nbformat_minor": 2
}
